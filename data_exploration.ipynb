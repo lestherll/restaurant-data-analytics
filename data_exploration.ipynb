{
 "cells": [
  {
   "cell_type": "code",
   "execution_count": 1,
   "metadata": {},
   "outputs": [],
   "source": [
    "import pandas as pd\n",
    "import numpy as np\n",
    "import plotly.express as px"
   ]
  },
  {
   "cell_type": "code",
   "execution_count": 2,
   "metadata": {},
   "outputs": [
    {
     "data": {
      "text/html": [
       "<div>\n",
       "<style scoped>\n",
       "    .dataframe tbody tr th:only-of-type {\n",
       "        vertical-align: middle;\n",
       "    }\n",
       "\n",
       "    .dataframe tbody tr th {\n",
       "        vertical-align: top;\n",
       "    }\n",
       "\n",
       "    .dataframe thead th {\n",
       "        text-align: right;\n",
       "    }\n",
       "</style>\n",
       "<table border=\"1\" class=\"dataframe\">\n",
       "  <thead>\n",
       "    <tr style=\"text-align: right;\">\n",
       "      <th></th>\n",
       "      <th>name</th>\n",
       "      <th>category</th>\n",
       "      <th>sold</th>\n",
       "      <th>sales_inc_tax</th>\n",
       "      <th>discount</th>\n",
       "      <th>sales_exc_tax</th>\n",
       "      <th>cost_inc_tax</th>\n",
       "      <th>gross_profit</th>\n",
       "      <th>markup</th>\n",
       "      <th>year</th>\n",
       "      <th>date_begin</th>\n",
       "      <th>date_end</th>\n",
       "    </tr>\n",
       "  </thead>\n",
       "  <tbody>\n",
       "    <tr>\n",
       "      <th>0</th>\n",
       "      <td>box(-)</td>\n",
       "      <td>custom</td>\n",
       "      <td>1550</td>\n",
       "      <td>5889.10</td>\n",
       "      <td>24.26</td>\n",
       "      <td>5889.10</td>\n",
       "      <td>0.0</td>\n",
       "      <td>5889.10</td>\n",
       "      <td>0.0</td>\n",
       "      <td>2023</td>\n",
       "      <td>2023-01-01</td>\n",
       "      <td>2023-12-31</td>\n",
       "    </tr>\n",
       "    <tr>\n",
       "      <th>1</th>\n",
       "      <td>75. rib eye(standard)</td>\n",
       "      <td>bbq (korean) 75 - 84</td>\n",
       "      <td>598</td>\n",
       "      <td>8491.85</td>\n",
       "      <td>55.76</td>\n",
       "      <td>8916.44</td>\n",
       "      <td>0.0</td>\n",
       "      <td>8916.44</td>\n",
       "      <td>0.0</td>\n",
       "      <td>2023</td>\n",
       "      <td>2023-01-01</td>\n",
       "      <td>2023-12-31</td>\n",
       "    </tr>\n",
       "    <tr>\n",
       "      <th>2</th>\n",
       "      <td>65d. egg(standard)</td>\n",
       "      <td>extras</td>\n",
       "      <td>2</td>\n",
       "      <td>0.95</td>\n",
       "      <td>0.00</td>\n",
       "      <td>1.00</td>\n",
       "      <td>0.0</td>\n",
       "      <td>1.00</td>\n",
       "      <td>0.0</td>\n",
       "      <td>2023</td>\n",
       "      <td>2023-01-01</td>\n",
       "      <td>2023-12-31</td>\n",
       "    </tr>\n",
       "    <tr>\n",
       "      <th>3</th>\n",
       "      <td>76. dwaeji galbi ribs(default)</td>\n",
       "      <td>bbq (korean) 75 - 84</td>\n",
       "      <td>220</td>\n",
       "      <td>2499.38</td>\n",
       "      <td>10.65</td>\n",
       "      <td>2624.35</td>\n",
       "      <td>0.0</td>\n",
       "      <td>2624.35</td>\n",
       "      <td>0.0</td>\n",
       "      <td>2023</td>\n",
       "      <td>2023-01-01</td>\n",
       "      <td>2023-12-31</td>\n",
       "    </tr>\n",
       "    <tr>\n",
       "      <th>4</th>\n",
       "      <td>77. beef bulgogi(standard)</td>\n",
       "      <td>bbq (korean) 75 - 84</td>\n",
       "      <td>867</td>\n",
       "      <td>9773.04</td>\n",
       "      <td>121.61</td>\n",
       "      <td>10261.69</td>\n",
       "      <td>0.0</td>\n",
       "      <td>10261.69</td>\n",
       "      <td>0.0</td>\n",
       "      <td>2023</td>\n",
       "      <td>2023-01-01</td>\n",
       "      <td>2023-12-31</td>\n",
       "    </tr>\n",
       "  </tbody>\n",
       "</table>\n",
       "</div>"
      ],
      "text/plain": [
       "                             name              category  sold  sales_inc_tax  \\\n",
       "0                          box(-)                custom  1550        5889.10   \n",
       "1           75. rib eye(standard)  bbq (korean) 75 - 84   598        8491.85   \n",
       "2              65d. egg(standard)                extras     2           0.95   \n",
       "3  76. dwaeji galbi ribs(default)  bbq (korean) 75 - 84   220        2499.38   \n",
       "4      77. beef bulgogi(standard)  bbq (korean) 75 - 84   867        9773.04   \n",
       "\n",
       "   discount  sales_exc_tax  cost_inc_tax  gross_profit  markup  year  \\\n",
       "0     24.26        5889.10           0.0       5889.10     0.0  2023   \n",
       "1     55.76        8916.44           0.0       8916.44     0.0  2023   \n",
       "2      0.00           1.00           0.0          1.00     0.0  2023   \n",
       "3     10.65        2624.35           0.0       2624.35     0.0  2023   \n",
       "4    121.61       10261.69           0.0      10261.69     0.0  2023   \n",
       "\n",
       "  date_begin   date_end  \n",
       "0 2023-01-01 2023-12-31  \n",
       "1 2023-01-01 2023-12-31  \n",
       "2 2023-01-01 2023-12-31  \n",
       "3 2023-01-01 2023-12-31  \n",
       "4 2023-01-01 2023-12-31  "
      ]
     },
     "execution_count": 2,
     "metadata": {},
     "output_type": "execute_result"
    }
   ],
   "source": [
    "df = pd.read_csv(\"product_reports_partial_cleaned_2021-2024.csv\")\n",
    "df[\"date_begin\"] = pd.to_datetime(df.year, format=\"%Y\")\n",
    "df[\"date_end\"] = df.date_begin + pd.tseries.offsets.YearEnd()\n",
    "\n",
    "df.head()"
   ]
  },
  {
   "cell_type": "code",
   "execution_count": 3,
   "metadata": {},
   "outputs": [
    {
     "name": "stdout",
     "output_type": "stream",
     "text": [
      "<class 'pandas.core.frame.DataFrame'>\n",
      "RangeIndex: 1396 entries, 0 to 1395\n",
      "Data columns (total 12 columns):\n",
      " #   Column         Non-Null Count  Dtype         \n",
      "---  ------         --------------  -----         \n",
      " 0   name           1396 non-null   object        \n",
      " 1   category       1396 non-null   object        \n",
      " 2   sold           1396 non-null   int64         \n",
      " 3   sales_inc_tax  1396 non-null   float64       \n",
      " 4   discount       1396 non-null   float64       \n",
      " 5   sales_exc_tax  1396 non-null   float64       \n",
      " 6   cost_inc_tax   1396 non-null   float64       \n",
      " 7   gross_profit   1396 non-null   float64       \n",
      " 8   markup         1396 non-null   float64       \n",
      " 9   year           1396 non-null   int64         \n",
      " 10  date_begin     1396 non-null   datetime64[ns]\n",
      " 11  date_end       1396 non-null   datetime64[ns]\n",
      "dtypes: datetime64[ns](2), float64(6), int64(2), object(2)\n",
      "memory usage: 131.0+ KB\n"
     ]
    }
   ],
   "source": [
    "df.info()"
   ]
  },
  {
   "cell_type": "code",
   "execution_count": 4,
   "metadata": {},
   "outputs": [
    {
     "data": {
      "text/html": [
       "<div>\n",
       "<style scoped>\n",
       "    .dataframe tbody tr th:only-of-type {\n",
       "        vertical-align: middle;\n",
       "    }\n",
       "\n",
       "    .dataframe tbody tr th {\n",
       "        vertical-align: top;\n",
       "    }\n",
       "\n",
       "    .dataframe thead th {\n",
       "        text-align: right;\n",
       "    }\n",
       "</style>\n",
       "<table border=\"1\" class=\"dataframe\">\n",
       "  <thead>\n",
       "    <tr style=\"text-align: right;\">\n",
       "      <th></th>\n",
       "      <th>sold</th>\n",
       "      <th>sales_inc_tax</th>\n",
       "      <th>discount</th>\n",
       "      <th>sales_exc_tax</th>\n",
       "      <th>cost_inc_tax</th>\n",
       "      <th>gross_profit</th>\n",
       "      <th>markup</th>\n",
       "      <th>year</th>\n",
       "      <th>date_begin</th>\n",
       "      <th>date_end</th>\n",
       "    </tr>\n",
       "  </thead>\n",
       "  <tbody>\n",
       "    <tr>\n",
       "      <th>count</th>\n",
       "      <td>1396.000000</td>\n",
       "      <td>1396.000000</td>\n",
       "      <td>1396.000000</td>\n",
       "      <td>1396.000000</td>\n",
       "      <td>1396.0</td>\n",
       "      <td>1396.000000</td>\n",
       "      <td>1396.0</td>\n",
       "      <td>1396.000000</td>\n",
       "      <td>1396</td>\n",
       "      <td>1396</td>\n",
       "    </tr>\n",
       "    <tr>\n",
       "      <th>mean</th>\n",
       "      <td>209.377507</td>\n",
       "      <td>1406.771461</td>\n",
       "      <td>18.941769</td>\n",
       "      <td>1471.966956</td>\n",
       "      <td>0.0</td>\n",
       "      <td>1471.966956</td>\n",
       "      <td>0.0</td>\n",
       "      <td>2022.489971</td>\n",
       "      <td>2022-06-28 20:08:56.389684736</td>\n",
       "      <td>2023-06-28 01:27:40.744985600</td>\n",
       "    </tr>\n",
       "    <tr>\n",
       "      <th>min</th>\n",
       "      <td>1.000000</td>\n",
       "      <td>0.000000</td>\n",
       "      <td>-50.000000</td>\n",
       "      <td>0.000000</td>\n",
       "      <td>0.0</td>\n",
       "      <td>0.000000</td>\n",
       "      <td>0.0</td>\n",
       "      <td>2021.000000</td>\n",
       "      <td>2021-01-01 00:00:00</td>\n",
       "      <td>2021-12-31 00:00:00</td>\n",
       "    </tr>\n",
       "    <tr>\n",
       "      <th>25%</th>\n",
       "      <td>21.000000</td>\n",
       "      <td>98.570000</td>\n",
       "      <td>0.000000</td>\n",
       "      <td>103.500000</td>\n",
       "      <td>0.0</td>\n",
       "      <td>103.500000</td>\n",
       "      <td>0.0</td>\n",
       "      <td>2022.000000</td>\n",
       "      <td>2022-01-01 00:00:00</td>\n",
       "      <td>2022-12-31 00:00:00</td>\n",
       "    </tr>\n",
       "    <tr>\n",
       "      <th>50%</th>\n",
       "      <td>79.000000</td>\n",
       "      <td>485.805000</td>\n",
       "      <td>3.260000</td>\n",
       "      <td>510.095000</td>\n",
       "      <td>0.0</td>\n",
       "      <td>510.095000</td>\n",
       "      <td>0.0</td>\n",
       "      <td>2023.000000</td>\n",
       "      <td>2023-01-01 00:00:00</td>\n",
       "      <td>2023-12-31 00:00:00</td>\n",
       "    </tr>\n",
       "    <tr>\n",
       "      <th>75%</th>\n",
       "      <td>235.250000</td>\n",
       "      <td>1568.955000</td>\n",
       "      <td>20.172500</td>\n",
       "      <td>1636.275000</td>\n",
       "      <td>0.0</td>\n",
       "      <td>1636.275000</td>\n",
       "      <td>0.0</td>\n",
       "      <td>2023.000000</td>\n",
       "      <td>2023-01-01 00:00:00</td>\n",
       "      <td>2023-12-31 00:00:00</td>\n",
       "    </tr>\n",
       "    <tr>\n",
       "      <th>max</th>\n",
       "      <td>5026.000000</td>\n",
       "      <td>26469.570000</td>\n",
       "      <td>971.770000</td>\n",
       "      <td>27793.050000</td>\n",
       "      <td>0.0</td>\n",
       "      <td>27793.050000</td>\n",
       "      <td>0.0</td>\n",
       "      <td>2024.000000</td>\n",
       "      <td>2024-01-01 00:00:00</td>\n",
       "      <td>2024-12-31 00:00:00</td>\n",
       "    </tr>\n",
       "    <tr>\n",
       "      <th>std</th>\n",
       "      <td>411.998244</td>\n",
       "      <td>2536.780440</td>\n",
       "      <td>45.344981</td>\n",
       "      <td>2650.491670</td>\n",
       "      <td>0.0</td>\n",
       "      <td>2650.491670</td>\n",
       "      <td>0.0</td>\n",
       "      <td>1.083886</td>\n",
       "      <td>NaN</td>\n",
       "      <td>NaN</td>\n",
       "    </tr>\n",
       "  </tbody>\n",
       "</table>\n",
       "</div>"
      ],
      "text/plain": [
       "              sold  sales_inc_tax     discount  sales_exc_tax  cost_inc_tax  \\\n",
       "count  1396.000000    1396.000000  1396.000000    1396.000000        1396.0   \n",
       "mean    209.377507    1406.771461    18.941769    1471.966956           0.0   \n",
       "min       1.000000       0.000000   -50.000000       0.000000           0.0   \n",
       "25%      21.000000      98.570000     0.000000     103.500000           0.0   \n",
       "50%      79.000000     485.805000     3.260000     510.095000           0.0   \n",
       "75%     235.250000    1568.955000    20.172500    1636.275000           0.0   \n",
       "max    5026.000000   26469.570000   971.770000   27793.050000           0.0   \n",
       "std     411.998244    2536.780440    45.344981    2650.491670           0.0   \n",
       "\n",
       "       gross_profit  markup         year                     date_begin  \\\n",
       "count   1396.000000  1396.0  1396.000000                           1396   \n",
       "mean    1471.966956     0.0  2022.489971  2022-06-28 20:08:56.389684736   \n",
       "min        0.000000     0.0  2021.000000            2021-01-01 00:00:00   \n",
       "25%      103.500000     0.0  2022.000000            2022-01-01 00:00:00   \n",
       "50%      510.095000     0.0  2023.000000            2023-01-01 00:00:00   \n",
       "75%     1636.275000     0.0  2023.000000            2023-01-01 00:00:00   \n",
       "max    27793.050000     0.0  2024.000000            2024-01-01 00:00:00   \n",
       "std     2650.491670     0.0     1.083886                            NaN   \n",
       "\n",
       "                            date_end  \n",
       "count                           1396  \n",
       "mean   2023-06-28 01:27:40.744985600  \n",
       "min              2021-12-31 00:00:00  \n",
       "25%              2022-12-31 00:00:00  \n",
       "50%              2023-12-31 00:00:00  \n",
       "75%              2023-12-31 00:00:00  \n",
       "max              2024-12-31 00:00:00  \n",
       "std                              NaN  "
      ]
     },
     "execution_count": 4,
     "metadata": {},
     "output_type": "execute_result"
    }
   ],
   "source": [
    "df.describe()"
   ]
  },
  {
   "cell_type": "code",
   "execution_count": 5,
   "metadata": {},
   "outputs": [
    {
     "data": {
      "text/html": [
       "<div>\n",
       "<style scoped>\n",
       "    .dataframe tbody tr th:only-of-type {\n",
       "        vertical-align: middle;\n",
       "    }\n",
       "\n",
       "    .dataframe tbody tr th {\n",
       "        vertical-align: top;\n",
       "    }\n",
       "\n",
       "    .dataframe thead th {\n",
       "        text-align: right;\n",
       "    }\n",
       "</style>\n",
       "<table border=\"1\" class=\"dataframe\">\n",
       "  <thead>\n",
       "    <tr style=\"text-align: right;\">\n",
       "      <th></th>\n",
       "      <th>name</th>\n",
       "      <th>category</th>\n",
       "      <th>sold</th>\n",
       "      <th>sales_inc_tax</th>\n",
       "      <th>discount</th>\n",
       "      <th>sales_exc_tax</th>\n",
       "      <th>cost_inc_tax</th>\n",
       "      <th>gross_profit</th>\n",
       "      <th>markup</th>\n",
       "      <th>year</th>\n",
       "      <th>date_begin</th>\n",
       "      <th>date_end</th>\n",
       "    </tr>\n",
       "  </thead>\n",
       "  <tbody>\n",
       "    <tr>\n",
       "      <th>1089</th>\n",
       "      <td>asahi(pint)</td>\n",
       "      <td>draught beer</td>\n",
       "      <td>5026</td>\n",
       "      <td>24832.01</td>\n",
       "      <td>61.59</td>\n",
       "      <td>26073.61</td>\n",
       "      <td>0.0</td>\n",
       "      <td>26073.61</td>\n",
       "      <td>0.0</td>\n",
       "      <td>2022</td>\n",
       "      <td>2022-01-01</td>\n",
       "      <td>2022-12-31</td>\n",
       "    </tr>\n",
       "    <tr>\n",
       "      <th>42</th>\n",
       "      <td>asahi(pint)</td>\n",
       "      <td>draught beer</td>\n",
       "      <td>4733</td>\n",
       "      <td>23397.70</td>\n",
       "      <td>44.01</td>\n",
       "      <td>24567.59</td>\n",
       "      <td>0.0</td>\n",
       "      <td>24567.59</td>\n",
       "      <td>0.0</td>\n",
       "      <td>2023</td>\n",
       "      <td>2023-01-01</td>\n",
       "      <td>2023-12-31</td>\n",
       "    </tr>\n",
       "    <tr>\n",
       "      <th>752</th>\n",
       "      <td>asahi(pint)</td>\n",
       "      <td>draught beer</td>\n",
       "      <td>3954</td>\n",
       "      <td>19442.52</td>\n",
       "      <td>146.15</td>\n",
       "      <td>20414.65</td>\n",
       "      <td>0.0</td>\n",
       "      <td>20414.65</td>\n",
       "      <td>0.0</td>\n",
       "      <td>2021</td>\n",
       "      <td>2021-01-01</td>\n",
       "      <td>2021-12-31</td>\n",
       "    </tr>\n",
       "    <tr>\n",
       "      <th>151</th>\n",
       "      <td>coke(standard)</td>\n",
       "      <td>soft drinks</td>\n",
       "      <td>3852</td>\n",
       "      <td>9912.78</td>\n",
       "      <td>18.98</td>\n",
       "      <td>10408.42</td>\n",
       "      <td>0.0</td>\n",
       "      <td>10408.42</td>\n",
       "      <td>0.0</td>\n",
       "      <td>2023</td>\n",
       "      <td>2023-01-01</td>\n",
       "      <td>2023-12-31</td>\n",
       "    </tr>\n",
       "    <tr>\n",
       "      <th>1205</th>\n",
       "      <td>coke(standard)</td>\n",
       "      <td>soft drinks</td>\n",
       "      <td>3494</td>\n",
       "      <td>8931.53</td>\n",
       "      <td>55.69</td>\n",
       "      <td>9378.11</td>\n",
       "      <td>0.0</td>\n",
       "      <td>9378.11</td>\n",
       "      <td>0.0</td>\n",
       "      <td>2022</td>\n",
       "      <td>2022-01-01</td>\n",
       "      <td>2022-12-31</td>\n",
       "    </tr>\n",
       "    <tr>\n",
       "      <th>...</th>\n",
       "      <td>...</td>\n",
       "      <td>...</td>\n",
       "      <td>...</td>\n",
       "      <td>...</td>\n",
       "      <td>...</td>\n",
       "      <td>...</td>\n",
       "      <td>...</td>\n",
       "      <td>...</td>\n",
       "      <td>...</td>\n",
       "      <td>...</td>\n",
       "      <td>...</td>\n",
       "      <td>...</td>\n",
       "    </tr>\n",
       "    <tr>\n",
       "      <th>681</th>\n",
       "      <td>soju(green grape🍇)</td>\n",
       "      <td>korean soju</td>\n",
       "      <td>1</td>\n",
       "      <td>9.52</td>\n",
       "      <td>0.00</td>\n",
       "      <td>10.00</td>\n",
       "      <td>0.0</td>\n",
       "      <td>10.00</td>\n",
       "      <td>0.0</td>\n",
       "      <td>2024</td>\n",
       "      <td>2024-01-01</td>\n",
       "      <td>2024-12-31</td>\n",
       "    </tr>\n",
       "    <tr>\n",
       "      <th>674</th>\n",
       "      <td>2. lunetta vino spumante rose brut(bottle)</td>\n",
       "      <td>champagne</td>\n",
       "      <td>1</td>\n",
       "      <td>18.10</td>\n",
       "      <td>0.00</td>\n",
       "      <td>19.00</td>\n",
       "      <td>0.0</td>\n",
       "      <td>19.00</td>\n",
       "      <td>0.0</td>\n",
       "      <td>2024</td>\n",
       "      <td>2024-01-01</td>\n",
       "      <td>2024-12-31</td>\n",
       "    </tr>\n",
       "    <tr>\n",
       "      <th>257</th>\n",
       "      <td>kimchee fried rice(seafood)</td>\n",
       "      <td>new items</td>\n",
       "      <td>1</td>\n",
       "      <td>7.58</td>\n",
       "      <td>1.99</td>\n",
       "      <td>7.96</td>\n",
       "      <td>0.0</td>\n",
       "      <td>7.96</td>\n",
       "      <td>0.0</td>\n",
       "      <td>2023</td>\n",
       "      <td>2023-01-01</td>\n",
       "      <td>2023-12-31</td>\n",
       "    </tr>\n",
       "    <tr>\n",
       "      <th>603</th>\n",
       "      <td>jack daniels(double)</td>\n",
       "      <td>spirits &amp; shots</td>\n",
       "      <td>1</td>\n",
       "      <td>5.24</td>\n",
       "      <td>0.00</td>\n",
       "      <td>5.50</td>\n",
       "      <td>0.0</td>\n",
       "      <td>5.50</td>\n",
       "      <td>0.0</td>\n",
       "      <td>2024</td>\n",
       "      <td>2024-01-01</td>\n",
       "      <td>2024-12-31</td>\n",
       "    </tr>\n",
       "    <tr>\n",
       "      <th>1017</th>\n",
       "      <td>nigiri (3pc)(beef)</td>\n",
       "      <td>sushi</td>\n",
       "      <td>1</td>\n",
       "      <td>4.76</td>\n",
       "      <td>0.00</td>\n",
       "      <td>5.00</td>\n",
       "      <td>0.0</td>\n",
       "      <td>5.00</td>\n",
       "      <td>0.0</td>\n",
       "      <td>2021</td>\n",
       "      <td>2021-01-01</td>\n",
       "      <td>2021-12-31</td>\n",
       "    </tr>\n",
       "  </tbody>\n",
       "</table>\n",
       "<p>1396 rows × 12 columns</p>\n",
       "</div>"
      ],
      "text/plain": [
       "                                            name         category  sold  \\\n",
       "1089                                 asahi(pint)     draught beer  5026   \n",
       "42                                   asahi(pint)     draught beer  4733   \n",
       "752                                  asahi(pint)     draught beer  3954   \n",
       "151                               coke(standard)      soft drinks  3852   \n",
       "1205                              coke(standard)      soft drinks  3494   \n",
       "...                                          ...              ...   ...   \n",
       "681                           soju(green grape🍇)      korean soju     1   \n",
       "674   2. lunetta vino spumante rose brut(bottle)        champagne     1   \n",
       "257                  kimchee fried rice(seafood)        new items     1   \n",
       "603                         jack daniels(double)  spirits & shots     1   \n",
       "1017                          nigiri (3pc)(beef)            sushi     1   \n",
       "\n",
       "      sales_inc_tax  discount  sales_exc_tax  cost_inc_tax  gross_profit  \\\n",
       "1089       24832.01     61.59       26073.61           0.0      26073.61   \n",
       "42         23397.70     44.01       24567.59           0.0      24567.59   \n",
       "752        19442.52    146.15       20414.65           0.0      20414.65   \n",
       "151         9912.78     18.98       10408.42           0.0      10408.42   \n",
       "1205        8931.53     55.69        9378.11           0.0       9378.11   \n",
       "...             ...       ...            ...           ...           ...   \n",
       "681            9.52      0.00          10.00           0.0         10.00   \n",
       "674           18.10      0.00          19.00           0.0         19.00   \n",
       "257            7.58      1.99           7.96           0.0          7.96   \n",
       "603            5.24      0.00           5.50           0.0          5.50   \n",
       "1017           4.76      0.00           5.00           0.0          5.00   \n",
       "\n",
       "      markup  year date_begin   date_end  \n",
       "1089     0.0  2022 2022-01-01 2022-12-31  \n",
       "42       0.0  2023 2023-01-01 2023-12-31  \n",
       "752      0.0  2021 2021-01-01 2021-12-31  \n",
       "151      0.0  2023 2023-01-01 2023-12-31  \n",
       "1205     0.0  2022 2022-01-01 2022-12-31  \n",
       "...      ...   ...        ...        ...  \n",
       "681      0.0  2024 2024-01-01 2024-12-31  \n",
       "674      0.0  2024 2024-01-01 2024-12-31  \n",
       "257      0.0  2023 2023-01-01 2023-12-31  \n",
       "603      0.0  2024 2024-01-01 2024-12-31  \n",
       "1017     0.0  2021 2021-01-01 2021-12-31  \n",
       "\n",
       "[1396 rows x 12 columns]"
      ]
     },
     "execution_count": 5,
     "metadata": {},
     "output_type": "execute_result"
    }
   ],
   "source": [
    "df.sort_values(\"sold\", ascending=False)"
   ]
  },
  {
   "cell_type": "code",
   "execution_count": 6,
   "metadata": {},
   "outputs": [],
   "source": [
    "# df.sort_values(\"sold\", ascending=False).groupby([\"year\"]).head(5)"
   ]
  },
  {
   "cell_type": "code",
   "execution_count": 7,
   "metadata": {},
   "outputs": [
    {
     "data": {
      "application/vnd.plotly.v1+json": {
       "config": {
        "plotlyServerURL": "https://plot.ly"
       },
       "data": [
        {
         "hovertemplate": "name=lunch/early set<br>date_end=%{x}<br>sold=%{y}<extra></extra>",
         "legendgroup": "lunch/early set",
         "line": {
          "color": "#636efa",
          "dash": "solid"
         },
         "marker": {
          "symbol": "circle"
         },
         "mode": "lines",
         "name": "lunch/early set",
         "orientation": "v",
         "showlegend": true,
         "type": "scatter",
         "x": [
          "2021-12-31T00:00:00"
         ],
         "xaxis": "x",
         "y": [
          1956
         ],
         "yaxis": "y"
        },
        {
         "hovertemplate": "name=asahi(pint)<br>date_end=%{x}<br>sold=%{y}<extra></extra>",
         "legendgroup": "asahi(pint)",
         "line": {
          "color": "#EF553B",
          "dash": "solid"
         },
         "marker": {
          "symbol": "circle"
         },
         "mode": "lines",
         "name": "asahi(pint)",
         "orientation": "v",
         "showlegend": true,
         "type": "scatter",
         "x": [
          "2021-12-31T00:00:00",
          "2022-12-31T00:00:00",
          "2023-12-31T00:00:00",
          "2024-12-31T00:00:00"
         ],
         "xaxis": "x",
         "y": [
          3954,
          5026,
          4733,
          676
         ],
         "yaxis": "y"
        },
        {
         "hovertemplate": "name=diet coke(standard)<br>date_end=%{x}<br>sold=%{y}<extra></extra>",
         "legendgroup": "diet coke(standard)",
         "line": {
          "color": "#00cc96",
          "dash": "solid"
         },
         "marker": {
          "symbol": "circle"
         },
         "mode": "lines",
         "name": "diet coke(standard)",
         "orientation": "v",
         "showlegend": true,
         "type": "scatter",
         "x": [
          "2021-12-31T00:00:00",
          "2022-12-31T00:00:00",
          "2023-12-31T00:00:00",
          "2024-12-31T00:00:00"
         ],
         "xaxis": "x",
         "y": [
          1986,
          3304,
          3327,
          422
         ],
         "yaxis": "y"
        },
        {
         "hovertemplate": "name=coke(standard)<br>date_end=%{x}<br>sold=%{y}<extra></extra>",
         "legendgroup": "coke(standard)",
         "line": {
          "color": "#ab63fa",
          "dash": "solid"
         },
         "marker": {
          "symbol": "circle"
         },
         "mode": "lines",
         "name": "coke(standard)",
         "orientation": "v",
         "showlegend": true,
         "type": "scatter",
         "x": [
          "2021-12-31T00:00:00",
          "2022-12-31T00:00:00",
          "2023-12-31T00:00:00",
          "2024-12-31T00:00:00"
         ],
         "xaxis": "x",
         "y": [
          2189,
          3494,
          3852,
          475
         ],
         "yaxis": "y"
        },
        {
         "hovertemplate": "name=cocktail(-)<br>date_end=%{x}<br>sold=%{y}<extra></extra>",
         "legendgroup": "cocktail(-)",
         "line": {
          "color": "#FFA15A",
          "dash": "solid"
         },
         "marker": {
          "symbol": "circle"
         },
         "mode": "lines",
         "name": "cocktail(-)",
         "orientation": "v",
         "showlegend": true,
         "type": "scatter",
         "x": [
          "2021-12-31T00:00:00",
          "2022-12-31T00:00:00"
         ],
         "xaxis": "x",
         "y": [
          3013,
          2517
         ],
         "yaxis": "y"
        },
        {
         "hovertemplate": "name=chilli fries(standard)<br>date_end=%{x}<br>sold=%{y}<extra></extra>",
         "legendgroup": "chilli fries(standard)",
         "line": {
          "color": "#19d3f3",
          "dash": "solid"
         },
         "marker": {
          "symbol": "circle"
         },
         "mode": "lines",
         "name": "chilli fries(standard)",
         "orientation": "v",
         "showlegend": true,
         "type": "scatter",
         "x": [
          "2022-12-31T00:00:00",
          "2023-12-31T00:00:00",
          "2024-12-31T00:00:00"
         ],
         "xaxis": "x",
         "y": [
          2501,
          2537,
          364
         ],
         "yaxis": "y"
        },
        {
         "hovertemplate": "name=29. chicken katsu curry(standard)<br>date_end=%{x}<br>sold=%{y}<extra></extra>",
         "legendgroup": "29. chicken katsu curry(standard)",
         "line": {
          "color": "#FF6692",
          "dash": "solid"
         },
         "marker": {
          "symbol": "circle"
         },
         "mode": "lines",
         "name": "29. chicken katsu curry(standard)",
         "orientation": "v",
         "showlegend": true,
         "type": "scatter",
         "x": [
          "2023-12-31T00:00:00"
         ],
         "xaxis": "x",
         "y": [
          2320
         ],
         "yaxis": "y"
        },
        {
         "hovertemplate": "name=25.chicken katsu curry(standard)<br>date_end=%{x}<br>sold=%{y}<extra></extra>",
         "legendgroup": "25.chicken katsu curry(standard)",
         "line": {
          "color": "#B6E880",
          "dash": "solid"
         },
         "marker": {
          "symbol": "circle"
         },
         "mode": "lines",
         "name": "25.chicken katsu curry(standard)",
         "orientation": "v",
         "showlegend": true,
         "type": "scatter",
         "x": [
          "2024-12-31T00:00:00"
         ],
         "xaxis": "x",
         "y": [
          387
         ],
         "yaxis": "y"
        }
       ],
       "layout": {
        "legend": {
         "title": {
          "text": "name"
         },
         "tracegroupgap": 0
        },
        "template": {
         "data": {
          "bar": [
           {
            "error_x": {
             "color": "#2a3f5f"
            },
            "error_y": {
             "color": "#2a3f5f"
            },
            "marker": {
             "line": {
              "color": "#E5ECF6",
              "width": 0.5
             },
             "pattern": {
              "fillmode": "overlay",
              "size": 10,
              "solidity": 0.2
             }
            },
            "type": "bar"
           }
          ],
          "barpolar": [
           {
            "marker": {
             "line": {
              "color": "#E5ECF6",
              "width": 0.5
             },
             "pattern": {
              "fillmode": "overlay",
              "size": 10,
              "solidity": 0.2
             }
            },
            "type": "barpolar"
           }
          ],
          "carpet": [
           {
            "aaxis": {
             "endlinecolor": "#2a3f5f",
             "gridcolor": "white",
             "linecolor": "white",
             "minorgridcolor": "white",
             "startlinecolor": "#2a3f5f"
            },
            "baxis": {
             "endlinecolor": "#2a3f5f",
             "gridcolor": "white",
             "linecolor": "white",
             "minorgridcolor": "white",
             "startlinecolor": "#2a3f5f"
            },
            "type": "carpet"
           }
          ],
          "choropleth": [
           {
            "colorbar": {
             "outlinewidth": 0,
             "ticks": ""
            },
            "type": "choropleth"
           }
          ],
          "contour": [
           {
            "colorbar": {
             "outlinewidth": 0,
             "ticks": ""
            },
            "colorscale": [
             [
              0,
              "#0d0887"
             ],
             [
              0.1111111111111111,
              "#46039f"
             ],
             [
              0.2222222222222222,
              "#7201a8"
             ],
             [
              0.3333333333333333,
              "#9c179e"
             ],
             [
              0.4444444444444444,
              "#bd3786"
             ],
             [
              0.5555555555555556,
              "#d8576b"
             ],
             [
              0.6666666666666666,
              "#ed7953"
             ],
             [
              0.7777777777777778,
              "#fb9f3a"
             ],
             [
              0.8888888888888888,
              "#fdca26"
             ],
             [
              1,
              "#f0f921"
             ]
            ],
            "type": "contour"
           }
          ],
          "contourcarpet": [
           {
            "colorbar": {
             "outlinewidth": 0,
             "ticks": ""
            },
            "type": "contourcarpet"
           }
          ],
          "heatmap": [
           {
            "colorbar": {
             "outlinewidth": 0,
             "ticks": ""
            },
            "colorscale": [
             [
              0,
              "#0d0887"
             ],
             [
              0.1111111111111111,
              "#46039f"
             ],
             [
              0.2222222222222222,
              "#7201a8"
             ],
             [
              0.3333333333333333,
              "#9c179e"
             ],
             [
              0.4444444444444444,
              "#bd3786"
             ],
             [
              0.5555555555555556,
              "#d8576b"
             ],
             [
              0.6666666666666666,
              "#ed7953"
             ],
             [
              0.7777777777777778,
              "#fb9f3a"
             ],
             [
              0.8888888888888888,
              "#fdca26"
             ],
             [
              1,
              "#f0f921"
             ]
            ],
            "type": "heatmap"
           }
          ],
          "heatmapgl": [
           {
            "colorbar": {
             "outlinewidth": 0,
             "ticks": ""
            },
            "colorscale": [
             [
              0,
              "#0d0887"
             ],
             [
              0.1111111111111111,
              "#46039f"
             ],
             [
              0.2222222222222222,
              "#7201a8"
             ],
             [
              0.3333333333333333,
              "#9c179e"
             ],
             [
              0.4444444444444444,
              "#bd3786"
             ],
             [
              0.5555555555555556,
              "#d8576b"
             ],
             [
              0.6666666666666666,
              "#ed7953"
             ],
             [
              0.7777777777777778,
              "#fb9f3a"
             ],
             [
              0.8888888888888888,
              "#fdca26"
             ],
             [
              1,
              "#f0f921"
             ]
            ],
            "type": "heatmapgl"
           }
          ],
          "histogram": [
           {
            "marker": {
             "pattern": {
              "fillmode": "overlay",
              "size": 10,
              "solidity": 0.2
             }
            },
            "type": "histogram"
           }
          ],
          "histogram2d": [
           {
            "colorbar": {
             "outlinewidth": 0,
             "ticks": ""
            },
            "colorscale": [
             [
              0,
              "#0d0887"
             ],
             [
              0.1111111111111111,
              "#46039f"
             ],
             [
              0.2222222222222222,
              "#7201a8"
             ],
             [
              0.3333333333333333,
              "#9c179e"
             ],
             [
              0.4444444444444444,
              "#bd3786"
             ],
             [
              0.5555555555555556,
              "#d8576b"
             ],
             [
              0.6666666666666666,
              "#ed7953"
             ],
             [
              0.7777777777777778,
              "#fb9f3a"
             ],
             [
              0.8888888888888888,
              "#fdca26"
             ],
             [
              1,
              "#f0f921"
             ]
            ],
            "type": "histogram2d"
           }
          ],
          "histogram2dcontour": [
           {
            "colorbar": {
             "outlinewidth": 0,
             "ticks": ""
            },
            "colorscale": [
             [
              0,
              "#0d0887"
             ],
             [
              0.1111111111111111,
              "#46039f"
             ],
             [
              0.2222222222222222,
              "#7201a8"
             ],
             [
              0.3333333333333333,
              "#9c179e"
             ],
             [
              0.4444444444444444,
              "#bd3786"
             ],
             [
              0.5555555555555556,
              "#d8576b"
             ],
             [
              0.6666666666666666,
              "#ed7953"
             ],
             [
              0.7777777777777778,
              "#fb9f3a"
             ],
             [
              0.8888888888888888,
              "#fdca26"
             ],
             [
              1,
              "#f0f921"
             ]
            ],
            "type": "histogram2dcontour"
           }
          ],
          "mesh3d": [
           {
            "colorbar": {
             "outlinewidth": 0,
             "ticks": ""
            },
            "type": "mesh3d"
           }
          ],
          "parcoords": [
           {
            "line": {
             "colorbar": {
              "outlinewidth": 0,
              "ticks": ""
             }
            },
            "type": "parcoords"
           }
          ],
          "pie": [
           {
            "automargin": true,
            "type": "pie"
           }
          ],
          "scatter": [
           {
            "fillpattern": {
             "fillmode": "overlay",
             "size": 10,
             "solidity": 0.2
            },
            "type": "scatter"
           }
          ],
          "scatter3d": [
           {
            "line": {
             "colorbar": {
              "outlinewidth": 0,
              "ticks": ""
             }
            },
            "marker": {
             "colorbar": {
              "outlinewidth": 0,
              "ticks": ""
             }
            },
            "type": "scatter3d"
           }
          ],
          "scattercarpet": [
           {
            "marker": {
             "colorbar": {
              "outlinewidth": 0,
              "ticks": ""
             }
            },
            "type": "scattercarpet"
           }
          ],
          "scattergeo": [
           {
            "marker": {
             "colorbar": {
              "outlinewidth": 0,
              "ticks": ""
             }
            },
            "type": "scattergeo"
           }
          ],
          "scattergl": [
           {
            "marker": {
             "colorbar": {
              "outlinewidth": 0,
              "ticks": ""
             }
            },
            "type": "scattergl"
           }
          ],
          "scattermapbox": [
           {
            "marker": {
             "colorbar": {
              "outlinewidth": 0,
              "ticks": ""
             }
            },
            "type": "scattermapbox"
           }
          ],
          "scatterpolar": [
           {
            "marker": {
             "colorbar": {
              "outlinewidth": 0,
              "ticks": ""
             }
            },
            "type": "scatterpolar"
           }
          ],
          "scatterpolargl": [
           {
            "marker": {
             "colorbar": {
              "outlinewidth": 0,
              "ticks": ""
             }
            },
            "type": "scatterpolargl"
           }
          ],
          "scatterternary": [
           {
            "marker": {
             "colorbar": {
              "outlinewidth": 0,
              "ticks": ""
             }
            },
            "type": "scatterternary"
           }
          ],
          "surface": [
           {
            "colorbar": {
             "outlinewidth": 0,
             "ticks": ""
            },
            "colorscale": [
             [
              0,
              "#0d0887"
             ],
             [
              0.1111111111111111,
              "#46039f"
             ],
             [
              0.2222222222222222,
              "#7201a8"
             ],
             [
              0.3333333333333333,
              "#9c179e"
             ],
             [
              0.4444444444444444,
              "#bd3786"
             ],
             [
              0.5555555555555556,
              "#d8576b"
             ],
             [
              0.6666666666666666,
              "#ed7953"
             ],
             [
              0.7777777777777778,
              "#fb9f3a"
             ],
             [
              0.8888888888888888,
              "#fdca26"
             ],
             [
              1,
              "#f0f921"
             ]
            ],
            "type": "surface"
           }
          ],
          "table": [
           {
            "cells": {
             "fill": {
              "color": "#EBF0F8"
             },
             "line": {
              "color": "white"
             }
            },
            "header": {
             "fill": {
              "color": "#C8D4E3"
             },
             "line": {
              "color": "white"
             }
            },
            "type": "table"
           }
          ]
         },
         "layout": {
          "annotationdefaults": {
           "arrowcolor": "#2a3f5f",
           "arrowhead": 0,
           "arrowwidth": 1
          },
          "autotypenumbers": "strict",
          "coloraxis": {
           "colorbar": {
            "outlinewidth": 0,
            "ticks": ""
           }
          },
          "colorscale": {
           "diverging": [
            [
             0,
             "#8e0152"
            ],
            [
             0.1,
             "#c51b7d"
            ],
            [
             0.2,
             "#de77ae"
            ],
            [
             0.3,
             "#f1b6da"
            ],
            [
             0.4,
             "#fde0ef"
            ],
            [
             0.5,
             "#f7f7f7"
            ],
            [
             0.6,
             "#e6f5d0"
            ],
            [
             0.7,
             "#b8e186"
            ],
            [
             0.8,
             "#7fbc41"
            ],
            [
             0.9,
             "#4d9221"
            ],
            [
             1,
             "#276419"
            ]
           ],
           "sequential": [
            [
             0,
             "#0d0887"
            ],
            [
             0.1111111111111111,
             "#46039f"
            ],
            [
             0.2222222222222222,
             "#7201a8"
            ],
            [
             0.3333333333333333,
             "#9c179e"
            ],
            [
             0.4444444444444444,
             "#bd3786"
            ],
            [
             0.5555555555555556,
             "#d8576b"
            ],
            [
             0.6666666666666666,
             "#ed7953"
            ],
            [
             0.7777777777777778,
             "#fb9f3a"
            ],
            [
             0.8888888888888888,
             "#fdca26"
            ],
            [
             1,
             "#f0f921"
            ]
           ],
           "sequentialminus": [
            [
             0,
             "#0d0887"
            ],
            [
             0.1111111111111111,
             "#46039f"
            ],
            [
             0.2222222222222222,
             "#7201a8"
            ],
            [
             0.3333333333333333,
             "#9c179e"
            ],
            [
             0.4444444444444444,
             "#bd3786"
            ],
            [
             0.5555555555555556,
             "#d8576b"
            ],
            [
             0.6666666666666666,
             "#ed7953"
            ],
            [
             0.7777777777777778,
             "#fb9f3a"
            ],
            [
             0.8888888888888888,
             "#fdca26"
            ],
            [
             1,
             "#f0f921"
            ]
           ]
          },
          "colorway": [
           "#636efa",
           "#EF553B",
           "#00cc96",
           "#ab63fa",
           "#FFA15A",
           "#19d3f3",
           "#FF6692",
           "#B6E880",
           "#FF97FF",
           "#FECB52"
          ],
          "font": {
           "color": "#2a3f5f"
          },
          "geo": {
           "bgcolor": "white",
           "lakecolor": "white",
           "landcolor": "#E5ECF6",
           "showlakes": true,
           "showland": true,
           "subunitcolor": "white"
          },
          "hoverlabel": {
           "align": "left"
          },
          "hovermode": "closest",
          "mapbox": {
           "style": "light"
          },
          "paper_bgcolor": "white",
          "plot_bgcolor": "#E5ECF6",
          "polar": {
           "angularaxis": {
            "gridcolor": "white",
            "linecolor": "white",
            "ticks": ""
           },
           "bgcolor": "#E5ECF6",
           "radialaxis": {
            "gridcolor": "white",
            "linecolor": "white",
            "ticks": ""
           }
          },
          "scene": {
           "xaxis": {
            "backgroundcolor": "#E5ECF6",
            "gridcolor": "white",
            "gridwidth": 2,
            "linecolor": "white",
            "showbackground": true,
            "ticks": "",
            "zerolinecolor": "white"
           },
           "yaxis": {
            "backgroundcolor": "#E5ECF6",
            "gridcolor": "white",
            "gridwidth": 2,
            "linecolor": "white",
            "showbackground": true,
            "ticks": "",
            "zerolinecolor": "white"
           },
           "zaxis": {
            "backgroundcolor": "#E5ECF6",
            "gridcolor": "white",
            "gridwidth": 2,
            "linecolor": "white",
            "showbackground": true,
            "ticks": "",
            "zerolinecolor": "white"
           }
          },
          "shapedefaults": {
           "line": {
            "color": "#2a3f5f"
           }
          },
          "ternary": {
           "aaxis": {
            "gridcolor": "white",
            "linecolor": "white",
            "ticks": ""
           },
           "baxis": {
            "gridcolor": "white",
            "linecolor": "white",
            "ticks": ""
           },
           "bgcolor": "#E5ECF6",
           "caxis": {
            "gridcolor": "white",
            "linecolor": "white",
            "ticks": ""
           }
          },
          "title": {
           "x": 0.05
          },
          "xaxis": {
           "automargin": true,
           "gridcolor": "white",
           "linecolor": "white",
           "ticks": "",
           "title": {
            "standoff": 15
           },
           "zerolinecolor": "white",
           "zerolinewidth": 2
          },
          "yaxis": {
           "automargin": true,
           "gridcolor": "white",
           "linecolor": "white",
           "ticks": "",
           "title": {
            "standoff": 15
           },
           "zerolinecolor": "white",
           "zerolinewidth": 2
          }
         }
        },
        "title": {
         "text": "Top 5 Products Sold per Year"
        },
        "xaxis": {
         "anchor": "y",
         "domain": [
          0,
          1
         ],
         "title": {
          "text": "date_end"
         }
        },
        "yaxis": {
         "anchor": "x",
         "domain": [
          0,
          1
         ],
         "title": {
          "text": "sold"
         }
        }
       }
      }
     },
     "metadata": {},
     "output_type": "display_data"
    }
   ],
   "source": [
    "px.line(\n",
    "    df.sort_values(\"sold\", ascending=False)\n",
    "    .groupby([\"year\"])\n",
    "    .head(5)\n",
    "    .sort_values(\"year\"),\n",
    "    x=\"date_end\",\n",
    "    y=\"sold\",\n",
    "    color=\"name\",\n",
    "    title=\"Top 5 Products Sold per Year\"\n",
    ")"
   ]
  },
  {
   "cell_type": "markdown",
   "metadata": {},
   "source": [
    "As can be seen above, the names are not properly clean and standardised. FOr example, there are 2 instances of \"chicken katsu curry\".\n",
    "And this is only from the top 5 per year products."
   ]
  }
 ],
 "metadata": {
  "kernelspec": {
   "display_name": "Python 3",
   "language": "python",
   "name": "python3"
  },
  "language_info": {
   "codemirror_mode": {
    "name": "ipython",
    "version": 3
   },
   "file_extension": ".py",
   "mimetype": "text/x-python",
   "name": "python",
   "nbconvert_exporter": "python",
   "pygments_lexer": "ipython3",
   "version": "3.11.6"
  }
 },
 "nbformat": 4,
 "nbformat_minor": 2
}
